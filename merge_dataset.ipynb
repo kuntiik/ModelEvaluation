{
 "cells": [
  {
   "cell_type": "code",
   "execution_count": 4,
   "metadata": {},
   "outputs": [],
   "source": [
    "from pathlib import Path\n",
    "import json\n",
    "from pycocotools.coco import COCO"
   ]
  },
  {
   "cell_type": "code",
   "execution_count": 17,
   "metadata": {},
   "outputs": [],
   "source": [
    "dataset_root = Path('/home/kuntik/dev/datasets/dental_exported')\n",
    "task_name = 'task_dental_rtg'"
   ]
  },
  {
   "cell_type": "code",
   "execution_count": 20,
   "metadata": {},
   "outputs": [
    {
     "name": "stdout",
     "output_type": "stream",
     "text": [
      "['84.png', '97.png', '87.png', '92.png', '98.png', '94.png', '9.png', '89.png', '91.png', '85.png', '88.png', '90.png', '96.png', '83.png', '81.png', '86.png', '99.png', '80.png', '95.png', '93.png', '82.png', '97.png', '92.png', '98.png', '94.png', '91.png', '90.png', '96.png', '99.png', '95.png', '93.png']\n",
      "31\n",
      "2599\n"
     ]
    }
   ],
   "source": [
    "img_roots = [dataset_root / (task_name + str(i) + '/images') for i in range(1,7)]\n",
    "ann_roots = [dataset_root / (task_name + str(i) + '/annotations') for i in range(1,7)]\n",
    "img_names = []\n",
    "duplicit_img_names = []\n",
    "for root in img_roots:\n",
    "    names = [x.name for x in root.iterdir()]\n",
    "    for name in names:\n",
    "        if name not in img_names:\n",
    "            img_names.append(name)\n",
    "        else:\n",
    "            duplicit_img_names.append(name)\n",
    "print(duplicit_img_names)\n",
    "print(len(duplicit_img_names))\n",
    "print(len(img_names))"
   ]
  },
  {
   "cell_type": "code",
   "execution_count": 39,
   "metadata": {},
   "outputs": [
    {
     "data": {
      "text/plain": [
       "4172"
      ]
     },
     "execution_count": 39,
     "metadata": {},
     "output_type": "execute_result"
    }
   ],
   "source": [
    "with open(ann_roots[0]/ 'instances_default.json', 'r') as f:\n",
    "    data = json.load(f)\n",
    "\n",
    "merged = {}\n",
    "merged['categories'] = data['categories']\n",
    "merged['images'] = []\n",
    "merged['annotations'] = []\n",
    "\n",
    "img_names = []\n",
    "\n",
    "img_id = 0\n",
    "ann_id = 0\n",
    "\n",
    "for ann_file in ann_roots:\n",
    "    with open(ann_file/ 'instances_default.json', 'r') as f:\n",
    "        data = json.load(f)\n",
    "    \n",
    "    for img in data['images']:\n",
    "        if img['file_name'] not in img_names:\n",
    "            img_names.append(img['file_name'])\n",
    "        else:\n",
    "            continue\n",
    "        \n",
    "        old_id = img['id']\n",
    "        img['id'] = img_id\n",
    "        img_id += 1\n",
    "        merged['images'].append(img)\n",
    "        for ann in data['annotations']:\n",
    "            #only caries\n",
    "            if ann['category_id'] != 1:\n",
    "                continue\n",
    "            if ann['image_id'] == old_id:\n",
    "                ann['id'] = ann_id\n",
    "                ann['image_id'] = img['id']\n",
    "                ann_id += 1\n",
    "                merged['annotations'].append(ann)\n",
    "\n",
    "len(merged['images'])\n",
    "len(merged['annotations'])\n",
    "        "
   ]
  },
  {
   "cell_type": "code",
   "execution_count": null,
   "metadata": {},
   "outputs": [],
   "source": [
    "\n",
    "ann_paths = ['/home/kuntik/dev/datasets/dental_rtg_merged2/' + f_name + '.json' for f_name in range(1,5)]\n",
    "with open(ann_paths[0], 'r') as f:\n",
    "    data = json.load(f)\n",
    "\n",
    "merged = {}\n",
    "merged['categories'] = data['categories']\n",
    "merged['images'] = []\n",
    "merged['annotations'] = []\n",
    "\n",
    "img_names = []\n",
    "\n",
    "img_id = 0\n",
    "ann_id = 0\n",
    "\n",
    "for ann_path in ann_paths:\n",
    "    with open(ann_path, 'r') as f:\n",
    "        data = json.load(f)\n",
    "    \n",
    "    for img in data['images']:\n",
    "        if img['file_name'] not in img_names:\n",
    "            img_names.append(img['file_name'])\n",
    "        else:\n",
    "            continue\n",
    "        \n",
    "        old_id = img['id']\n",
    "        img['id'] = img_id\n",
    "        img_id += 1\n",
    "        merged['images'].append(img)\n",
    "        for ann in data['annotations']:\n",
    "            #only caries\n",
    "            if ann['category_id'] != 1:\n",
    "                continue\n",
    "            if ann['image_id'] == old_id:\n",
    "                ann['id'] = ann_id\n",
    "                ann['image_id'] = img['id']\n",
    "                ann_id += 1\n",
    "                merged['annotations'].append(ann)\n",
    "\n",
    "len(merged['images'])\n",
    "len(merged['annotations'])"
   ]
  },
  {
   "cell_type": "code",
   "execution_count": 35,
   "metadata": {},
   "outputs": [
    {
     "name": "stdout",
     "output_type": "stream",
     "text": [
      "4172\n"
     ]
    }
   ],
   "source": [
    "print(ann_id)"
   ]
  },
  {
   "cell_type": "code",
   "execution_count": 36,
   "metadata": {},
   "outputs": [],
   "source": [
    "merged_dataset_annotations_path = Path('/home/kuntik/dev/datasets/dental_merged/annotations.json')\n",
    "with open(merged_dataset_annotations_path, 'w') as f:\n",
    "    json.dump(merged, f)"
   ]
  },
  {
   "cell_type": "code",
   "execution_count": 25,
   "metadata": {},
   "outputs": [],
   "source": [
    "import shutil\n",
    "\n",
    "merged_dataset_images_path = Path('/home/kuntik/dev/datasets/dental_merged/images')\n",
    "merged_dataset_images_path.mkdir(parents=True)\n",
    "\n",
    "img_names = []\n",
    "\n",
    "for img_root in img_roots:\n",
    "    for img in img_root.iterdir():\n",
    "        if img not in img_names:\n",
    "            img_names.append(img)\n",
    "        else:\n",
    "            continue\n",
    "        shutil.copy(str(img_root/img.name), str(merged_dataset_images_path / img.name))\n"
   ]
  }
 ],
 "metadata": {
  "interpreter": {
   "hash": "f8412fa492cfdda31084e1e088b242e8edd421e99485824be405d3b26b9ecfb9"
  },
  "kernelspec": {
   "display_name": "Python 3.9.7 ('mt')",
   "language": "python",
   "name": "python3"
  },
  "language_info": {
   "codemirror_mode": {
    "name": "ipython",
    "version": 3
   },
   "file_extension": ".py",
   "mimetype": "text/x-python",
   "name": "python",
   "nbconvert_exporter": "python",
   "pygments_lexer": "ipython3",
   "version": "3.9.7"
  },
  "orig_nbformat": 4
 },
 "nbformat": 4,
 "nbformat_minor": 2
}
