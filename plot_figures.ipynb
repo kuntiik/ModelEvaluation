{
 "cells": [
  {
   "cell_type": "code",
   "execution_count": null,
   "metadata": {},
   "outputs": [],
   "source": [
    "import json\n",
    "import numpy as np\n",
    "import matplotlib.pyplot as plt"
   ]
  },
  {
   "cell_type": "code",
   "execution_count": null,
   "metadata": {},
   "outputs": [],
   "source": [
    "with open('/home/kuntik/dev/datasets/dental_rtg_merged2/annotations.json') as f:\n",
    "    data = json.load(f)"
   ]
  },
  {
   "cell_type": "markdown",
   "metadata": {},
   "source": [
    "### Plot the distribution of boxes dimensions as histogram"
   ]
  },
  {
   "cell_type": "code",
   "execution_count": null,
   "metadata": {},
   "outputs": [],
   "source": [
    "bins = np.linspace(0,200, 100)\n",
    "plt.style.use('seaborn')\n",
    "tex_fonts = {\n",
    "    # Use LaTeX to write all text\n",
    "    \"text.usetex\": True,\n",
    "    \"font.family\": \"arial\",\n",
    "    # Use 10pt font in plots, to match 10pt font in document\n",
    "    \"axes.labelsize\": 11,\n",
    "    \"font.size\": 11,\n",
    "    # Make the legend/label fonts a little smaller\n",
    "    \"legend.fontsize\": 9,\n",
    "    \"xtick.labelsize\": 9,\n",
    "    \"ytick.labelsize\": 9\n",
    "}\n",
    "plt.rcParams.update(tex_fonts)\n",
    "\n",
    "width = []\n",
    "height = []\n",
    "\n",
    "for ann in data['annotations']:\n",
    "    _,_,w,h = ann['bbox']\n",
    "\n",
    "    width.append(w)\n",
    "    height.append(h)\n",
    "\n",
    "fig, ax = plt.subplots(1,1, figsize=set_size(407))\n",
    "ax.hist(width, bins, alpha=0.8, label='width')\n",
    "ax.hist(height, bins, alpha=0.5, label='height')\n",
    "ax.set_xlabel('size [pixels]')\n",
    "ax.set_ylabel('amount of bounding boxes')\n",
    "ax.legend()\n",
    "fig.savefig('dataset_histogram.png', format='png', bbox_inches='tight')\n",
    "fig.show()"
   ]
  },
  {
   "cell_type": "markdown",
   "metadata": {},
   "source": [
    "### Plot distribution of dental caries over images"
   ]
  },
  {
   "cell_type": "code",
   "execution_count": null,
   "metadata": {},
   "outputs": [],
   "source": [
    "images = [0 for i in range(len(data['images']))]\n",
    "for ann in data['annotations']:\n",
    "    images[ann['image_id']] += 1\n",
    "\n",
    "fig, ax = plt.subplots(1,1, figsize=set_size(407))\n",
    "bins = np.linspace(0,10,11)\n",
    "plt.hist(images, bins)\n",
    "ax.set_xlabel('number of dental caries')\n",
    "ax.set_ylabel('amount of images in the dataset')\n",
    "fig.savefig('caries_histogram.png', format='png', bbox_inches='tight')\n",
    "fig.show()\n",
    "plt.show()"
   ]
  },
  {
   "cell_type": "markdown",
   "metadata": {},
   "source": []
  },
  {
   "cell_type": "code",
   "execution_count": null,
   "metadata": {},
   "outputs": [],
   "source": [
    "np_height = np.asarray(height)\n",
    "np_width = np.asarray(width)\n",
    "print(f\"width min : {min(width)}, width max : {max(width)}, height min : {min(height)}, height max : {max(height)}\")\n",
    "print(f\"width mean : {np_width.mean()}, width std : {np_width.std()}, height mean : {np_height.mean()}, height std : {np_height.std()}\")"
   ]
  },
  {
   "cell_type": "markdown",
   "metadata": {},
   "source": [
    "### Charts based on the data from weights and biases, the purpose is only to plot the data"
   ]
  },
  {
   "cell_type": "code",
   "execution_count": null,
   "metadata": {},
   "outputs": [],
   "source": [
    "map = [0.0522, 0.345, 0.53, 0.5975, 0.602, 0.619, 0.64, 0.615]\n",
    "img_size = [128  * i for i in range(1,9)]\n",
    "\n",
    "fig, ax = plt.subplots(1,1, figsize=set_size(407))\n",
    "ax.plot(img_size, map)\n",
    "ax.set_xlabel('image size [pixels]')\n",
    "ax.set_ylabel('AP@.5')\n",
    "fig.savefig('img_size_dependency.pdf', format='pdf', bbox_inches='tight')\n",
    "fig.show()"
   ]
  },
  {
   "cell_type": "code",
   "execution_count": null,
   "metadata": {},
   "outputs": [],
   "source": [
    "ap = [0.1253, 0.1923, 0.2056, 0.2216, 0.2298, 0.2298, 0.2082, 0.2396, ]\n",
    "ap50 = [0.3916, 0.5243, 0.545, 0.5902, 0.6031, 0.6011, 0.5548, 0.6167]\n",
    "size = [250 * i for i in range(1,9)]\n",
    "fig, ax = plt.subplots(1,1, figsize=set_size(407))\n",
    "ax.plot(size, ap, label='AP')\n",
    "ax.plot(size, ap50, label='AP@.5')\n",
    "ax.set_xlabel('Number of training samples')\n",
    "ax.set_ylabel('Average precision')\n",
    "ax.legend()\n",
    "fig.savefig('training_set_dependency.pdf', format='pdf', bbox_inches='tight')\n",
    "fig.show()"
   ]
  }
 ],
 "metadata": {
  "interpreter": {
   "hash": "71de01282598e27619eb7454810b6a910f6c3b14352a03ff19e82f1789bff524"
  },
  "kernelspec": {
   "display_name": "Python 3.8.12 64-bit ('ice': conda)",
   "language": "python",
   "name": "python3"
  },
  "language_info": {
   "codemirror_mode": {
    "name": "ipython",
    "version": 3
   },
   "file_extension": ".py",
   "mimetype": "text/x-python",
   "name": "python",
   "nbconvert_exporter": "python",
   "pygments_lexer": "ipython3",
   "version": "3.8.12"
  },
  "orig_nbformat": 4
 },
 "nbformat": 4,
 "nbformat_minor": 2
}
