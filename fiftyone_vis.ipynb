{
 "cells": [
  {
   "cell_type": "code",
   "execution_count": null,
   "metadata": {},
   "outputs": [],
   "source": [
    "import fiftyone as fo\n",
    "import fiftyone.utils.coco as fouc\n",
    "from fiftyone import ViewField as F"
   ]
  },
  {
   "cell_type": "code",
   "execution_count": null,
   "metadata": {},
   "outputs": [],
   "source": [
    "# name = \"dental_rtg_merged_full\"\n",
    "name = 'dental_rtg_merged3'\n",
    "data_path = \"/home/kuntik/dev/datasets/dental_merged/images\"\n",
    "# labels_path = \"/home/kuntik/dev/datasets/dental_merged/annotations.json\"\n",
    "labels_path = \"/home/kuntik/dev/datasets/dental_rtg_merged2/annotations.json\"\n",
    "dataset = fo.Dataset.from_dir(\n",
    "    dataset_type = fo.types.COCODetectionDataset,\n",
    "    data_path = data_path,\n",
    "    labels_path = labels_path,\n",
    "    name=name\n",
    ")\n",
    "# dataset = fo.load_dataset('dental_rtg_merged_f')\n",
    "# dataset = fo.load_dataset('dental_caries_dataset_merged2')\n"
   ]
  },
  {
   "cell_type": "code",
   "execution_count": null,
   "metadata": {
    "collapsed": false,
    "pycharm": {
     "name": "#%%\n"
    }
   },
   "outputs": [],
   "source": [
    "dataset = fo.load_dataset('foo3')"
   ]
  },
  {
   "cell_type": "code",
   "execution_count": null,
   "metadata": {},
   "outputs": [
    {
     "name": "stderr",
     "output_type": "stream",
     "text": [
      "Exception in thread Thread-19:\n",
      "Traceback (most recent call last):\n",
      "  File \"/home/kuntik/miniconda3/envs/fiftyone/lib/python3.8/threading.py\", line 932, in _bootstrap_inner\n",
      "    self.run()\n",
      "  File \"/home/kuntik/miniconda3/envs/fiftyone/lib/python3.8/threading.py\", line 870, in run\n",
      "    self._target(*self._args, **self._kwargs)\n",
      "  File \"/home/kuntik/miniconda3/envs/fiftyone/lib/python3.8/site-packages/fiftyone/core/client.py\", line 125, in run_client\n",
      "    io_loop.run_sync(connect)\n",
      "  File \"/home/kuntik/miniconda3/envs/fiftyone/lib/python3.8/site-packages/tornado/ioloop.py\", line 530, in run_sync\n",
      "    return future_cell[0].result()\n",
      "  File \"/home/kuntik/miniconda3/envs/fiftyone/lib/python3.8/site-packages/fiftyone/core/client.py\", line 92, in connect\n",
      "    message = json_util.loads(message)\n",
      "  File \"/home/kuntik/miniconda3/envs/fiftyone/lib/python3.8/site-packages/bson/json_util.py\", line 439, in loads\n",
      "    return json.loads(s, *args, **kwargs)\n",
      "  File \"/home/kuntik/miniconda3/envs/fiftyone/lib/python3.8/json/__init__.py\", line 341, in loads\n",
      "    raise TypeError(f'the JSON object must be str, bytes or bytearray, '\n",
      "TypeError: the JSON object must be str, bytes or bytearray, not NoneType\n"
     ]
    },
    {
     "name": "stdout",
     "output_type": "stream",
     "text": [
      "\n",
      "Session disconnected, trying to reconnect\n",
      "\n",
      "\n",
      "Could not connect session, trying again in 10 seconds\n",
      "\n",
      "\n",
      "Could not connect session, trying again in 10 seconds\n",
      "\n",
      "\n",
      "Could not connect session, trying again in 10 seconds\n",
      "\n",
      "\n",
      "Could not connect session, trying again in 10 seconds\n",
      "\n"
     ]
    }
   ],
   "source": [
    "print(dataset)\n",
    "session = fo.launch_app(dataset,desktop=True)"
   ]
  },
  {
   "cell_type": "code",
   "execution_count": null,
   "metadata": {},
   "outputs": [],
   "source": [
    "session.view=dataset.view()"
   ]
  },
  {
   "cell_type": "code",
   "execution_count": null,
   "metadata": {},
   "outputs": [],
   "source": [
    "# dataset.take()\n",
    "# dataset.filter_labels('predictions', F(\"confidence\") > 0.15).evaluate_detections(\n",
    "results = dataset.evaluate_detections(\n",
    "    \"new_predictions\",\n",
    "    gt_field=\"ground_truth\",\n",
    "    iou=0.5,\n",
    "    compute_mAP = True,\n",
    "    # eval_key=\"eval\"\n",
    ")"
   ]
  },
  {
   "cell_type": "code",
   "execution_count": null,
   "metadata": {},
   "outputs": [],
   "source": []
  },
  {
   "cell_type": "code",
   "execution_count": null,
   "metadata": {},
   "outputs": [],
   "source": [
    "pred_name = 'new_predictions'\n",
    "val_v = dataset.match_tags('val')\n",
    "val_v15 = val_v.filter_labels(pred_name, F('confidence')>0.30)\n",
    "results = val_v15.evaluate_detections(\n",
    "    pred_name,\n",
    "    gt_field=\"ground_truth\",\n",
    "    iou=0.5,\n",
    "    compute_mAP = True\n",
    ")\n",
    "results.print_report()\n",
    "\n",
    "results.print_report()\n",
    "results.mAP()\n",
    "\n",
    "session.view = dataset.sort_by('eval_fn', reverse=True)"
   ]
  },
  {
   "cell_type": "code",
   "execution_count": null,
   "metadata": {},
   "outputs": [],
   "source": [
    "dataset_15 = dataset.filter_labels('new_predictions', F(\"confidence\") > 0.15)\n",
    "dataset_15 = dataset.evaluate_detections(\n",
    "    \"new_predictions\",\n",
    "    gt_field = \"ground_truth\",\n",
    "    iou=0.5,\n",
    "    compute_mAP = True,\n",
    "    eval_key='eval_new'\n",
    ")"
   ]
  },
  {
   "cell_type": "code",
   "execution_count": null,
   "metadata": {},
   "outputs": [],
   "source": [
    "import fiftyone.brain as fob\n",
    "fob.compute_mistakenness(\n",
    "    supressed_view15,\n",
    "    'predictions',\n",
    "    label_field='ground_truth',\n",
    "    use_logits=False\n",
    ")"
   ]
  },
  {
   "cell_type": "code",
   "execution_count": null,
   "metadata": {},
   "outputs": [],
   "source": [
    "anno_key = \"p3\"\n",
    "\n",
    "label_schema = {\n",
    "    \"ground_truth\" : {\n",
    "        \"type\" : \"detections\",\n",
    "        \"classes\" : [\"decay\"]\n",
    "    },\n",
    "    \"predictions\" : {\n",
    "        \"type\" : \"detections\",\n",
    "        \"classes\" : [\"decay\"]\n",
    "    }\n",
    "}\n",
    "\n",
    "# Upload the samples and launch CVAT\n",
    "annot_res = dataset[1800:].annotate(\n",
    "    anno_key=anno_key,\n",
    "    label_schema=label_schema,\n",
    "    attributes=False,\n",
    "    image_quality=100,\n",
    "    segment_size=100\n",
    ")"
   ]
  },
  {
   "cell_type": "code",
   "execution_count": null,
   "metadata": {},
   "outputs": [],
   "source": [
    "import json\n",
    "from pathlib import Path\n",
    "with open('rtg2_preds_effdet.json', 'r') as json_file:\n",
    "    preds = json.load(json_file)\n",
    "# dataset['/home/kuntik/carries_dataset/images/1.png']\n",
    "data_path = '/home/kuntik/dev/datasets/dental_merged/images'\n",
    "add_prediction(preds, dataset, Path(data_path))"
   ]
  },
  {
   "cell_type": "code",
   "execution_count": null,
   "metadata": {},
   "outputs": [],
   "source": [
    "from PIL import Image\n",
    "def add_prediction(pred_dict, dataset, img_root):\n",
    "    # for sample in dataset:\n",
    "    det_id = 0\n",
    "    for pred_key, pred_value in pred_dict.items():\n",
    "        dets = []\n",
    "        # id = sample.id\n",
    "        path = img_root / pred_key\n",
    "        sample = dataset[str(path)]\n",
    "        s_id = sample.id\n",
    "        scores = pred_value['scores']\n",
    "        labels = pred_value['labels']\n",
    "        bboxes = pred_value['bboxes']\n",
    "        img = Image.open(path)\n",
    "        for box, score, label in zip(bboxes, scores, labels):\n",
    "            #TODO to limit confidence\n",
    "            # if score < 0.22:\n",
    "            #     continue\n",
    "            coco_obj = fouc.COCOObject(det_id, s_id, int(label), [box[0],box[1], box[2]-box[0], box[3]-box[1]], score=score)\n",
    "            det = coco_obj.to_detection(img.size, ['decay'])\n",
    "            dets.append(det)\n",
    "            det_id += 1\n",
    "        detection = fo.Detections(detections=dets)\n",
    "        sample['predictions'] = detection\n",
    "        # sample.tags.append(pred_value['stage'])\n",
    "        sample.tags = [pred_value['stage']]\n",
    "        sample.save()\n",
    "        \n",
    "\n"
   ]
  }
 ],
 "metadata": {
  "interpreter": {
   "hash": "1edff4d5b9c98e83eaa59f187d0bc5508f41acd6e19801c19c4db8117202e3ae"
  },
  "kernelspec": {
   "display_name": "Python 3.8.12 64-bit ('fiftyone': conda)",
   "language": "python",
   "name": "python3"
  },
  "language_info": {
   "codemirror_mode": {
    "name": "ipython",
    "version": 3
   },
   "file_extension": ".py",
   "mimetype": "text/x-python",
   "name": "python",
   "nbconvert_exporter": "python",
   "pygments_lexer": "ipython3",
   "version": "3.8.12"
  },
  "orig_nbformat": 4
 },
 "nbformat": 4,
 "nbformat_minor": 2
}
