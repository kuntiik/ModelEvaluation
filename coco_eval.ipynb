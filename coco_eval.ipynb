{
 "cells": [
  {
   "cell_type": "code",
   "execution_count": 8,
   "metadata": {},
   "outputs": [
    {
     "name": "stdout",
     "output_type": "stream",
     "text": [
      "The autoreload extension is already loaded. To reload it, use:\n",
      "  %reload_ext autoreload\n"
     ]
    }
   ],
   "source": [
    "%load_ext autoreload\n",
    "%autoreload 2\n",
    "\n",
    "import json\n",
    "from pycocotools.coco import COCO\n",
    "from pycocotools.cocoeval import COCOeval, Params"
   ]
  },
  {
   "cell_type": "code",
   "execution_count": 9,
   "metadata": {},
   "outputs": [],
   "source": [
    "data = {'categories' : [{'supercategory' : \"\", 'name' : 'decay', 'id' : 1}]}\n"
   ]
  },
  {
   "cell_type": "code",
   "execution_count": 10,
   "metadata": {},
   "outputs": [],
   "source": [
    "with open('/home/kuntik/dev/datasets/dental_rtg_merged2/annotations.json', 'r') as f:\n",
    "    ann_file = json.load(f)\n",
    "with open('rtg2_preds4.json', 'r') as f:\n",
    "    pred_file = json.load(f)"
   ]
  },
  {
   "cell_type": "code",
   "execution_count": 11,
   "metadata": {},
   "outputs": [],
   "source": [
    "all_preds = []\n",
    "pred_id = 0\n",
    "train = []\n",
    "val = []\n",
    "for image in ann_file['images']:\n",
    "    id = image['id']\n",
    "    pred = pred_file[image['file_name']]\n",
    "    # for pred in pred_file[image['file_name']]:\n",
    "    for (bbox, score, label) in zip(pred['bboxes'], pred['scores'], pred['labels']):\n",
    "        x1, y1, x2, y2 = bbox\n",
    "        width = x2 - x1\n",
    "        height = y2 - y1\n",
    "        final_box = [x1,y1, width, height]\n",
    "        area = width * height\n",
    "        pred_dict = {'area' : area, 'id' : pred_id, 'bbox' : final_box, 'image_id' : id, 'category_id' : 1, 'score' : score}\n",
    "        all_preds.append(pred_dict)\n",
    "        pred_id += 1\n",
    "    if pred['stage'] == 'valid':\n",
    "        val.append(id)\n",
    "    else:\n",
    "        train.append(id)\n",
    "data['images'] = ann_file['images']\n",
    "data['annotations'] = all_preds\n",
    "train_val = {'type' : 'id', 'train' : train, 'val' : val}\n",
    "\n",
    "\n",
    "with open('rtg2_4.json', 'w') as fp:\n",
    "    json.dump(data['annotations'], fp)"
   ]
  },
  {
   "cell_type": "code",
   "execution_count": 60,
   "metadata": {
    "collapsed": false,
    "pycharm": {
     "name": "#%%\n"
    }
   },
   "outputs": [
    {
     "name": "stdout",
     "output_type": "stream",
     "text": [
      "loading annotations into memory...\n",
      "Done (t=0.01s)\n",
      "creating index...\n",
      "index created!\n",
      "Loading and preparing results...\n",
      "DONE (t=0.72s)\n",
      "creating index...\n",
      "index created!\n",
      "Running per image evaluation...\n",
      "DONE (t=2.26s).\n",
      "Accumulating evaluation results...\n",
      "DONE (t=0.39s).\n",
      " Average Precision  (AP) @[ IoU=0.05:0.95 | area=   all | maxDets=100 ] = 0.249\n",
      "0.24946326046349723\n",
      " Average Precision  (AP) @[ IoU=0.05:0.95 | area=   all | maxDets=100 ] = 0.249\n",
      " Average Precision  (AP) @[ IoU=0.10      | area=   all | maxDets=100 ] = 0.760\n",
      "0.760347660902615\n",
      " Average Precision  (AP) @[ IoU=0.10      | area=   all | maxDets=100 ] = 0.760\n",
      " Average Precision  (AP) @[ IoU=0.30      | area=   all | maxDets=100 ] = 0.734\n",
      "0.7341479785896036\n",
      " Average Precision  (AP) @[ IoU=0.30      | area=   all | maxDets=100 ] = 0.734\n",
      " Average Precision  (AP) @[ IoU=0.50      | area=   all | maxDets=100 ] = 0.631\n",
      "0.6305479675531557\n",
      " Average Precision  (AP) @[ IoU=0.50      | area=   all | maxDets=100 ] = 0.631\n",
      " Average Precision  (AP) @[ IoU=0.70      | area=   all | maxDets=100 ] = 0.239\n",
      "0.2393606036087212\n",
      " Average Precision  (AP) @[ IoU=0.70      | area=   all | maxDets=100 ] = 0.239\n",
      " Average Precision  (AP) @[ IoU=0.90      | area=   all | maxDets=100 ] = 0.001\n",
      "0.001003650407812381\n",
      " Average Precision  (AP) @[ IoU=0.90      | area=   all | maxDets=100 ] = 0.001\n",
      " Average Precision  (AP) @[ IoU=0.50      | area= small | maxDets=100 ] = 0.598\n",
      "0.5981582741731065\n",
      " Average Precision  (AP) @[ IoU=0.50      | area= small | maxDets=100 ] = 0.598\n",
      " Average Precision  (AP) @[ IoU=0.50      | area=medium | maxDets=100 ] = 0.671\n",
      "0.6706910254618299\n",
      " Average Precision  (AP) @[ IoU=0.50      | area=medium | maxDets=100 ] = 0.671\n",
      " Average Precision  (AP) @[ IoU=0.50      | area= large | maxDets=100 ] = 0.607\n",
      "0.6071896713124255\n",
      " Average Precision  (AP) @[ IoU=0.50      | area= large | maxDets=100 ] = 0.607\n",
      " Average Precision  (AP) @[ IoU=0.05:0.95 | area=   all | maxDets=100 ] = 0.249\n",
      " Average Precision  (AP) @[ IoU=0.50      | area=   all | maxDets=100 ] = 0.631\n",
      " Average Precision  (AP) @[ IoU=0.75      | area=   all | maxDets=100 ] = 0.132\n",
      " Average Precision  (AP) @[ IoU=0.05:0.95 | area= small | maxDets=100 ] = 0.212\n",
      " Average Precision  (AP) @[ IoU=0.05:0.95 | area=medium | maxDets=100 ] = 0.272\n",
      " Average Precision  (AP) @[ IoU=0.05:0.95 | area= large | maxDets=100 ] = 0.287\n",
      " Average Recall     (AR) @[ IoU=0.05:0.95 | area=   all | maxDets=  1 ] = 0.134\n",
      " Average Recall     (AR) @[ IoU=0.05:0.95 | area=   all | maxDets= 10 ] = 0.392\n",
      " Average Recall     (AR) @[ IoU=0.05:0.95 | area=   all | maxDets=100 ] = 0.452\n",
      " Average Recall     (AR) @[ IoU=0.05:0.95 | area= small | maxDets=100 ] = 0.405\n",
      " Average Recall     (AR) @[ IoU=0.05:0.95 | area=medium | maxDets=100 ] = 0.475\n",
      " Average Recall     (AR) @[ IoU=0.05:0.95 | area= large | maxDets=100 ] = 0.480\n"
     ]
    },
    {
     "data": {
      "text/plain": [
       "[0.24946326046349723,\n",
       " 0.760347660902615,\n",
       " 0.7341479785896036,\n",
       " 0.6305479675531557,\n",
       " 0.2393606036087212,\n",
       " 0.001003650407812381,\n",
       " 0.5981582741731065,\n",
       " 0.6706910254618299,\n",
       " 0.6071896713124255]"
      ]
     },
     "execution_count": 60,
     "metadata": {},
     "output_type": "execute_result"
    }
   ],
   "source": [
    "from prediction_evaluation import PredictionEval\n",
    "dataDir = '/home/kuntik/dev/datasets/dental_merged'\n",
    "annFile = '/home/kuntik/dev/datasets/dental_rtg_merged2/annotations.json'\n",
    "resFile = 'rtg2_4.json'\n",
    "with open('train_val_names.json', 'r') as f:\n",
    "    train_val_names = json.load(f)\n",
    "pred_eval = PredictionEval()\n",
    "pred_eval.load_data_coco_files(annFile, resFile, train_val_names)\n",
    "queries = pred_eval.default_queries()\n",
    "# pred_eval.cocoEval.evaluate()\n",
    "pred_eval.evaluate_map(queries, stage='val', summary=True)\n",
    "\n",
    "# pred_eval."
   ]
  },
  {
   "cell_type": "code",
   "execution_count": 67,
   "metadata": {},
   "outputs": [
    {
     "name": "stdout",
     "output_type": "stream",
     "text": [
      "Running per image evaluation...\n",
      "DONE (t=10.11s).\n",
      "Accumulating evaluation results...\n",
      "DONE (t=2.18s).\n"
     ]
    },
    {
     "data": {
      "text/plain": [
       "array([1.        , 1.        , 0.99122807, 0.97560976, 0.97512438,\n",
       "       0.96825397, 0.95709571, 0.95081967, 0.9468599 , 0.94642857,\n",
       "       0.93714286, 0.9365942 , 0.93406593, 0.93406593, 0.92755682,\n",
       "       0.92143808, 0.92009988, 0.91100703, 0.90481283, 0.90451745,\n",
       "       0.90255906, 0.90234742, 0.89910714, 0.89899833, 0.896249  ,\n",
       "       0.89375   , 0.89219331, 0.88864943, 0.88719723, 0.88071571,\n",
       "       0.87691327, 0.87185776, 0.86935867, 0.86384439, 0.86117257,\n",
       "       0.85395645, 0.85087719, 0.84853014, 0.84660194, 0.84198113,\n",
       "       0.83687943, 0.83687943, 0.83205128, 0.83080169, 0.82873611,\n",
       "       0.82324841, 0.82066277, 0.81900795, 0.81646274, 0.8140886 ,\n",
       "       0.81027807, 0.808915  , 0.80276001, 0.79518856, 0.79183934,\n",
       "       0.78983474, 0.78588957, 0.78016726, 0.77738723, 0.76901168,\n",
       "       0.7591927 , 0.75221953, 0.74461942, 0.73621042, 0.72878826,\n",
       "       0.72149442, 0.7106933 , 0.70244907, 0.69472979, 0.68690165,\n",
       "       0.67261655, 0.66441718, 0.64753293, 0.63408616, 0.62105649,\n",
       "       0.60557418, 0.58329139, 0.56250998, 0.54157815, 0.51225733,\n",
       "       0.48489666, 0.44661364, 0.41367144, 0.37264521, 0.31833996,\n",
       "       0.27155925, 0.22226615, 0.18168956, 0.12840057, 0.08518472,\n",
       "       0.05768557, 0.        , 0.        , 0.        , 0.        ,\n",
       "       0.        , 0.        , 0.        , 0.        , 0.        ,\n",
       "       0.        ])"
      ]
     },
     "execution_count": 67,
     "metadata": {},
     "output_type": "execute_result"
    }
   ],
   "source": [
    "pred_eval.map_by_iou()\n"
   ]
  },
  {
   "cell_type": "code",
   "execution_count": 30,
   "metadata": {},
   "outputs": [
    {
     "data": {
      "text/plain": [
       "(16, 101, 1, 4, 3)"
      ]
     },
     "execution_count": 30,
     "metadata": {},
     "output_type": "execute_result"
    }
   ],
   "source": [
    "pred_eval.cocoEval.eval['precision'].shape"
   ]
  },
  {
   "cell_type": "code",
   "execution_count": 24,
   "metadata": {},
   "outputs": [
    {
     "data": {
      "image/png": "[encoded data removed]",
      "text/plain": [
       "<Figure size 432x288 with 1 Axes>"
      ]
     },
     "metadata": {
      "needs_background": "light"
     },
     "output_type": "display_data"
    }
   ],
   "source": [
    "import matplotlib.pyplot as plt\n",
    "import numpy as np\n",
    "all_precision = pred_eval.cocoEval.eval['precision']\n",
    "\n",
    "pr_0 = all_precision[0, :, 0, 0, 2] # data for IoU@0.5\n",
    "pr_2 = all_precision[2, :, 0, 0, 2] # data for IoU@0.5\n",
    "pr_4 = all_precision[4, :, 0, 0, 2] # data for IoU@0.7\n",
    "pr_5 = all_precision[5, :, 0, 0, 2] # data for IoU@0.9\n",
    "pr_6 = all_precision[6, :, 0, 0, 2] # data for IoU@0.9\n",
    "\n",
    "x = np.arange(0, 1.01, 0.01)\n",
    "plt.plot(x, pr_0, label='IoU@0.5')\n",
    "plt.plot(x, pr_2, label='IoU@0.7')\n",
    "plt.plot(x, pr_4, label='IoU@0.9')\n",
    "plt.plot(x, pr_5, label='IoU@0.7')\n",
    "plt.plot(x, pr_6, label='IoU@0.9')\n",
    "\n",
    "plt.show()"
   ]
  },
  {
   "cell_type": "code",
   "execution_count": 23,
   "metadata": {},
   "outputs": [
    {
     "data": {
      "text/plain": [
       "0.07142857142857142"
      ]
     },
     "execution_count": 23,
     "metadata": {},
     "output_type": "execute_result"
    }
   ],
   "source": [
    "\n",
    "all_precision[8, 0 ,0,0,2]"
   ]
  },
  {
   "cell_type": "code",
   "execution_count": 40,
   "metadata": {},
   "outputs": [
    {
     "data": {
      "text/plain": [
       "520"
      ]
     },
     "execution_count": 40,
     "metadata": {},
     "output_type": "execute_result"
    }
   ],
   "source": [
    "len(pred_eval.val_ids)"
   ]
  },
  {
   "cell_type": "code",
   "execution_count": 5,
   "metadata": {},
   "outputs": [
    {
     "data": {
      "text/plain": [
       "84575"
      ]
     },
     "execution_count": 5,
     "metadata": {},
     "output_type": "execute_result"
    }
   ],
   "source": [
    "\n",
    "pred_file.keys()\n",
    "data.keys()\n",
    "len(data['images'])\n",
    "len(data['annotations'])"
   ]
  },
  {
   "cell_type": "code",
   "execution_count": 25,
   "metadata": {},
   "outputs": [],
   "source": [
    "with open('predictions2.json', 'w') as fp:\n",
    "    json.dump(data['annotations'], fp)"
   ]
  },
  {
   "cell_type": "code",
   "execution_count": 19,
   "metadata": {},
   "outputs": [
    {
     "name": "stdout",
     "output_type": "stream",
     "text": [
      "loading annotations into memory...\n",
      "Done (t=0.02s)\n",
      "creating index...\n",
      "index created!\n"
     ]
    }
   ],
   "source": [
    "annType = ['bbox']\n",
    "prefix = 'instances'\n",
    "dataDir = '/home/kuntik/dev/datasets/dental_merged'\n",
    "annFile = '/home/kuntik/dev/datasets/dental_rtg_merged2/annotations.json'\n",
    "cocoGt = COCO(annFile)"
   ]
  },
  {
   "cell_type": "code",
   "execution_count": 11,
   "metadata": {},
   "outputs": [
    {
     "name": "stdout",
     "output_type": "stream",
     "text": [
      "True\n",
      "Loading and preparing results...\n",
      "DONE (t=0.48s)\n",
      "creating index...\n",
      "index created!\n"
     ]
    }
   ],
   "source": [
    "resFile = 'rtg2_preds1.json'\n",
    "print(type(resFile['predictions']) == str) \n",
    "# resFile = resFile%(dataDir, prefix, ann)\n",
    "cocoDt = cocoGt.loadRes(resFile)"
   ]
  },
  {
   "cell_type": "code",
   "execution_count": 13,
   "metadata": {},
   "outputs": [],
   "source": [
    "annType = 'bbox'\n",
    "cocoEval = COCOeval(cocoGt, cocoDt)"
   ]
  },
  {
   "cell_type": "code",
   "execution_count": 8,
   "metadata": {
    "collapsed": false,
    "pycharm": {
     "name": "#%%\n"
    }
   },
   "outputs": [
    {
     "ename": "NameError",
     "evalue": "name 'cocoEval' is not defined",
     "output_type": "error",
     "traceback": [
      "\u001b[0;31m---------------------------------------------------------------------------\u001b[0m",
      "\u001b[0;31mNameError\u001b[0m                                 Traceback (most recent call last)",
      "\u001b[0;32m/tmp/ipykernel_19902/3363242690.py\u001b[0m in \u001b[0;36m<module>\u001b[0;34m\u001b[0m\n\u001b[1;32m      2\u001b[0m \u001b[0mparams\u001b[0m\u001b[0;34m.\u001b[0m\u001b[0msetDetParams\u001b[0m\u001b[0;34m(\u001b[0m\u001b[0;34m)\u001b[0m\u001b[0;34m\u001b[0m\u001b[0;34m\u001b[0m\u001b[0m\n\u001b[1;32m      3\u001b[0m \u001b[0mparams\u001b[0m\u001b[0;34m.\u001b[0m\u001b[0miouType\u001b[0m \u001b[0;34m=\u001b[0m \u001b[0;34m'bbox'\u001b[0m\u001b[0;34m\u001b[0m\u001b[0;34m\u001b[0m\u001b[0m\n\u001b[0;32m----> 4\u001b[0;31m \u001b[0mcocoEval\u001b[0m\u001b[0;34m.\u001b[0m\u001b[0mparams\u001b[0m \u001b[0;34m=\u001b[0m \u001b[0mparams\u001b[0m\u001b[0;34m\u001b[0m\u001b[0;34m\u001b[0m\u001b[0m\n\u001b[0m\u001b[1;32m      5\u001b[0m \u001b[0;34m\u001b[0m\u001b[0m\n",
      "\u001b[0;31mNameError\u001b[0m: name 'cocoEval' is not defined"
     ]
    }
   ],
   "source": [
    "params = Params()\n",
    "params.setDetParams()\n",
    "params.iouType = 'bbox'\n",
    "cocoEval.params = params\n"
   ]
  },
  {
   "cell_type": "code",
   "execution_count": 14,
   "metadata": {},
   "outputs": [
    {
     "name": "stdout",
     "output_type": "stream",
     "text": [
      "Running per image evaluation...\n",
      "DONE (t=5.87s).\n"
     ]
    }
   ],
   "source": [
    "import numpy as np\n",
    "cocoEval.params.iouThrs = np.linspace(.2, 0.95, int(np.round((0.95 - .2) / .05)) + 1, endpoint=True)\n",
    "cocoEval.evaluate()\n"
   ]
  },
  {
   "cell_type": "code",
   "execution_count": 66,
   "metadata": {
    "collapsed": false,
    "pycharm": {
     "name": "#%%\n"
    }
   },
   "outputs": [
    {
     "data": {
      "text/plain": [
       "array([0.2 , 0.25, 0.3 , 0.35, 0.4 , 0.45, 0.5 , 0.55, 0.6 , 0.65, 0.7 ,\n",
       "       0.75, 0.8 , 0.85, 0.9 , 0.95])"
      ]
     },
     "execution_count": 66,
     "metadata": {},
     "output_type": "execute_result"
    }
   ],
   "source": [
    "cocoEval.params.iouThrs"
   ]
  },
  {
   "cell_type": "code",
   "execution_count": 16,
   "metadata": {
    "collapsed": false,
    "pycharm": {
     "name": "#%%\n"
    }
   },
   "outputs": [
    {
     "name": "stdout",
     "output_type": "stream",
     "text": [
      "Accumulating evaluation results...\n",
      "DONE (t=1.41s).\n",
      " Average Precision  (AP) @[ IoU=0.20      | area=   all | maxDets=100 ] = 0.749\n"
     ]
    },
    {
     "data": {
      "text/plain": [
       "0.749383264776497"
      ]
     },
     "execution_count": 16,
     "metadata": {},
     "output_type": "execute_result"
    }
   ],
   "source": [
    "cocoEval.accumulate()\n",
    "# cocoEval._summarize(1, iouThr=.4, maxDets=cocoEval.params.maxDets[2])\n",
    "cocoEval._summarize(1, iouThr=.2, maxDets=cocoEval.params.maxDets[2])\n",
    "\n"
   ]
  },
  {
   "cell_type": "code",
   "execution_count": 16,
   "metadata": {},
   "outputs": [
    {
     "name": "stdout",
     "output_type": "stream",
     "text": [
      "Accumulating evaluation results...\n",
      "DONE (t=2.20s).\n",
      " Average Precision  (AP) @[ IoU=0.20:0.95 | area=   all | maxDets=100 ] = 0.398\n",
      " Average Precision  (AP) @[ IoU=0.50      | area=   all | maxDets=100 ] = 0.588\n",
      " Average Precision  (AP) @[ IoU=0.75      | area=   all | maxDets=100 ] = 0.101\n",
      " Average Precision  (AP) @[ IoU=0.20:0.95 | area= small | maxDets=100 ] = 0.306\n",
      " Average Precision  (AP) @[ IoU=0.20:0.95 | area=medium | maxDets=100 ] = 0.431\n",
      " Average Precision  (AP) @[ IoU=0.20:0.95 | area= large | maxDets=100 ] = 0.565\n",
      " Average Recall     (AR) @[ IoU=0.20:0.95 | area=   all | maxDets=  1 ] = 0.199\n",
      " Average Recall     (AR) @[ IoU=0.20:0.95 | area=   all | maxDets= 10 ] = 0.550\n",
      " Average Recall     (AR) @[ IoU=0.20:0.95 | area=   all | maxDets=100 ] = 0.598\n",
      " Average Recall     (AR) @[ IoU=0.20:0.95 | area= small | maxDets=100 ] = 0.531\n",
      " Average Recall     (AR) @[ IoU=0.20:0.95 | area=medium | maxDets=100 ] = 0.618\n",
      " Average Recall     (AR) @[ IoU=0.20:0.95 | area= large | maxDets=100 ] = 0.720\n"
     ]
    }
   ],
   "source": [
    "cocoEval.accumulate()\n",
    "cocoEval.summarize()"
   ]
  },
  {
   "cell_type": "code",
   "execution_count": null,
   "metadata": {
    "collapsed": false,
    "pycharm": {
     "name": "#%%\n"
    }
   },
   "outputs": [],
   "source": [
    "cocoEval.analyze()"
   ]
  }
 ],
 "metadata": {
  "interpreter": {
   "hash": "1edff4d5b9c98e83eaa59f187d0bc5508f41acd6e19801c19c4db8117202e3ae"
  },
  "kernelspec": {
   "display_name": "Python 3.8.12 ('fiftyone')",
   "language": "python",
   "name": "python3"
  },
  "language_info": {
   "codemirror_mode": {
    "name": "ipython",
    "version": 3
   },
   "file_extension": ".py",
   "mimetype": "text/x-python",
   "name": "python",
   "nbconvert_exporter": "python",
   "pygments_lexer": "ipython3",
   "version": "3.8.12"
  },
  "orig_nbformat": 4
 },
 "nbformat": 4,
 "nbformat_minor": 2
}
