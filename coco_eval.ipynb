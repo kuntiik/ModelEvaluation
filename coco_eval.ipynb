{
 "cells": [
  {
   "cell_type": "code",
   "execution_count": 26,
   "metadata": {},
   "outputs": [
    {
     "name": "stdout",
     "output_type": "stream",
     "text": [
      "The autoreload extension is already loaded. To reload it, use:\n",
      "  %reload_ext autoreload\n"
     ]
    }
   ],
   "source": [
    "%load_ext autoreload\n",
    "%autoreload 2\n",
    "\n",
    "import json\n",
    "from pycocotools.coco import COCO\n",
    "from pycocotools.cocoeval import COCOeval, Params"
   ]
  },
  {
   "cell_type": "code",
   "execution_count": 27,
   "metadata": {},
   "outputs": [],
   "source": []
  },
  {
   "cell_type": "code",
   "execution_count": 28,
   "metadata": {},
   "outputs": [],
   "source": [
    "with open('/home/kuntik/dev/datasets/dental_rtg_merged2/annotations.json', 'r') as f:\n",
    "    ann_file = json.load(f)\n",
    "with open('rtg2_preds_effdet.json', 'r') as f:\n",
    "    pred_file = json.load(f)"
   ]
  },
  {
   "cell_type": "code",
   "execution_count": 29,
   "metadata": {},
   "outputs": [],
   "source": [
    "all_preds = []\n",
    "pred_id = 0\n",
    "train = []\n",
    "val = []\n",
    "for image in ann_file['images']:\n",
    "    id = image['id']\n",
    "    pred = pred_file[image['file_name']]\n",
    "    # for pred in pred_file[image['file_name']]:\n",
    "    for (bbox, score, label) in zip(pred['bboxes'], pred['scores'], pred['labels']):\n",
    "        x1, y1, x2, y2 = bbox\n",
    "        width = x2 - x1\n",
    "        height = y2 - y1\n",
    "        final_box = [x1,y1, width, height]\n",
    "        area = width * height\n",
    "        pred_dict = {'area' : area, 'id' : pred_id, 'bbox' : final_box, 'image_id' : id, 'category_id' : 1, 'score' : score}\n",
    "        all_preds.append(pred_dict)\n",
    "        pred_id += 1\n",
    "    if pred['stage'] == 'valid':\n",
    "        val.append(id)\n",
    "    else:\n",
    "        train.append(id)\n",
    "\n",
    "data = {'categories' : [{'supercategory' : \"\", 'name' : 'decay', 'id' : 1}]}\n",
    "data['images'] = ann_file['images']\n",
    "data['annotations'] = all_preds\n",
    "train_val = {'type' : 'id', 'train' : train, 'val' : val}\n",
    "\n",
    "\n",
    "with open('rtg2_effdet.json', 'w') as fp:\n",
    "    json.dump(data['annotations'], fp)"
   ]
  },
  {
   "cell_type": "code",
   "execution_count": 30,
   "metadata": {
    "collapsed": false,
    "pycharm": {
     "name": "#%%\n"
    }
   },
   "outputs": [
    {
     "name": "stdout",
     "output_type": "stream",
     "text": [
      "loading annotations into memory...\n",
      "Done (t=0.20s)\n",
      "creating index...\n",
      "index created!\n",
      "Loading and preparing results...\n",
      "DONE (t=1.64s)\n",
      "creating index...\n",
      "index created!\n",
      "Running per image evaluation...\n",
      "DONE (t=2.86s).\n",
      "Accumulating evaluation results...\n",
      "DONE (t=0.59s).\n",
      " Average Precision  (AP) @[ IoU=0.05:0.95 | area=   all | maxDets=100 ] = 0.168\n",
      "0.1683779924455489\n",
      " Average Precision  (AP) @[ IoU=0.05:0.95 | area=   all | maxDets=100 ] = 0.168\n",
      " Average Precision  (AP) @[ IoU=0.30      | area=   all | maxDets=100 ] = 0.666\n",
      "0.6659947396917841\n",
      " Average Precision  (AP) @[ IoU=0.30      | area=   all | maxDets=100 ] = 0.666\n",
      " Average Precision  (AP) @[ IoU=0.50      | area=   all | maxDets=100 ] = 0.525\n",
      "0.524906719069937\n",
      " Average Precision  (AP) @[ IoU=0.50      | area=   all | maxDets=100 ] = 0.525\n",
      " Average Precision  (AP) @[ IoU=0.75      | area=   all | maxDets=100 ] = 0.041\n",
      "0.04078025471065879\n",
      " Average Precision  (AP) @[ IoU=0.75      | area=   all | maxDets=100 ] = 0.041\n",
      " Average Precision  (AP) @[ IoU=0.50      | area= small | maxDets=100 ] = 0.435\n",
      "0.4348013108004268\n",
      " Average Precision  (AP) @[ IoU=0.50      | area= small | maxDets=100 ] = 0.435\n",
      " Average Precision  (AP) @[ IoU=0.50      | area=medium | maxDets=100 ] = 0.606\n",
      "0.6062540062160803\n",
      " Average Precision  (AP) @[ IoU=0.50      | area=medium | maxDets=100 ] = 0.606\n",
      " Average Precision  (AP) @[ IoU=0.50      | area= large | maxDets=100 ] = 0.527\n",
      "0.5268906050763301\n",
      " Average Precision  (AP) @[ IoU=0.50      | area= large | maxDets=100 ] = 0.527\n",
      "Running per image evaluation...\n",
      "DONE (t=10.92s).\n",
      "Accumulating evaluation results...\n",
      "DONE (t=2.59s).\n",
      " Average Precision  (AP) @[ IoU=0.05:0.95 | area=   all | maxDets=100 ] = 0.297\n",
      "0.296847753243251\n",
      " Average Precision  (AP) @[ IoU=0.05:0.95 | area=   all | maxDets=100 ] = 0.297\n",
      " Average Precision  (AP) @[ IoU=0.30      | area=   all | maxDets=100 ] = 0.820\n",
      "0.8201740250158124\n",
      " Average Precision  (AP) @[ IoU=0.30      | area=   all | maxDets=100 ] = 0.820\n",
      " Average Precision  (AP) @[ IoU=0.50      | area=   all | maxDets=100 ] = 0.735\n",
      "0.7350631965152857\n",
      " Average Precision  (AP) @[ IoU=0.50      | area=   all | maxDets=100 ] = 0.735\n",
      " Average Precision  (AP) @[ IoU=0.75      | area=   all | maxDets=100 ] = 0.164\n",
      "0.16405639347795875\n",
      " Average Precision  (AP) @[ IoU=0.75      | area=   all | maxDets=100 ] = 0.164\n",
      " Average Precision  (AP) @[ IoU=0.50      | area= small | maxDets=100 ] = 0.552\n",
      "0.5523523199475491\n",
      " Average Precision  (AP) @[ IoU=0.50      | area= small | maxDets=100 ] = 0.552\n",
      " Average Precision  (AP) @[ IoU=0.50      | area=medium | maxDets=100 ] = 0.838\n",
      "0.8379786221206248\n",
      " Average Precision  (AP) @[ IoU=0.50      | area=medium | maxDets=100 ] = 0.838\n",
      " Average Precision  (AP) @[ IoU=0.50      | area= large | maxDets=100 ] = 0.815\n",
      "0.8151036908348664\n",
      " Average Precision  (AP) @[ IoU=0.50      | area= large | maxDets=100 ] = 0.815\n",
      "stage  & AP & AP@.3 & AP@.5 & AP@.75 & AP@.5_S & AP@.5_M & AP@.5_L \\ \\hline\n",
      "        training & 0.297& 0.82 & 0.735 & 0.164 \n",
      "        & 0.552 & 0.838 & 0.815\n",
      "        validation & 0.168& 0.666 & 0.525 & 0.041 \n",
      "        & 0.435 & 0.606 & 0.527\n",
      "        \n"
     ]
    }
   ],
   "source": [
    "from prediction_evaluation import PredictionEval\n",
    "dataDir = '/home/kuntik/dev/datasets/dental_merged'\n",
    "annFile = '/home/kuntik/dev/datasets/dental_rtg_merged2/annotations.json'\n",
    "resFile = 'rtg2_effdet.json'\n",
    "with open('train_val_names.json', 'r') as f:\n",
    "    train_val_names = json.load(f)\n",
    "pred_eval = PredictionEval()\n",
    "pred_eval.load_data_coco_files(annFile, resFile, train_val_names)\n",
    "queries = pred_eval.default_queries()\n",
    "# pred_eval.cocoEval.evaluate()\n",
    "# pred_eval.evaluate_map(queries, stage='val', summary=True)\n",
    "text = pred_eval.get_latex_table()\n",
    "print(text)\n",
    "\n",
    "# pred_eval."
   ]
  },
  {
   "cell_type": "code",
   "execution_count": 31,
   "metadata": {},
   "outputs": [
    {
     "name": "stdout",
     "output_type": "stream",
     "text": [
      "stage  & AP & AP@.3 & AP@.5 & AP@.75 & AP@.5_S & AP@.5_M & AP@.5_L \\ \\hline\n",
      "        training & 0.297& 0.82 & 0.735 & 0.164 \n",
      "        & 0.552 & 0.838 & 0.815\n",
      "        validation & 0.168& 0.666 & 0.525 & 0.041 \n",
      "        & 0.435 & 0.606 & 0.527\n",
      "        \n"
     ]
    }
   ],
   "source": [
    "print(text)"
   ]
  },
  {
   "cell_type": "code",
   "execution_count": 17,
   "metadata": {},
   "outputs": [],
   "source": [
    "import matplotlib.pyplot as plt\n",
    "import numpy as np\n",
    "\n",
    "def set_size(width_pt, fraction=1, subplots=(1,1)):\n",
    "    fig_width_pt = width_pt * fraction\n",
    "    inches_per_pt = 1 / 72.27\n",
    "    golden_ratio = (5**.5 - 1) / 2\n",
    "    fig_width_in = fig_width_pt * inches_per_pt\n",
    "    fig_height_in = fig_width_in * golden_ratio * (subplots[0] / subplots[1])\n",
    "    return (fig_width_in, fig_height_in)\n",
    "\n",
    "plt.style.use('seaborn')\n",
    "tex_fonts = {\n",
    "    # Use LaTeX to write all text\n",
    "    \"text.usetex\": True,\n",
    "    \"font.family\": \"arial\",\n",
    "    # Use 10pt font in plots, to match 10pt font in document\n",
    "    \"axes.labelsize\": 11,\n",
    "    \"font.size\": 11,\n",
    "    # Make the legend/label fonts a little smaller\n",
    "    \"legend.fontsize\": 9,\n",
    "    \"xtick.labelsize\": 9,\n",
    "    \"ytick.labelsize\": 9\n",
    "}\n",
    "plt.rcParams.update(tex_fonts)"
   ]
  },
  {
   "cell_type": "code",
   "execution_count": 6,
   "metadata": {},
   "outputs": [
    {
     "ename": "NameError",
     "evalue": "name 'pred_eval' is not defined",
     "output_type": "error",
     "traceback": [
      "\u001b[0;31m---------------------------------------------------------------------------\u001b[0m",
      "\u001b[0;31mNameError\u001b[0m                                 Traceback (most recent call last)",
      "\u001b[0;32m/tmp/ipykernel_5251/1135880785.py\u001b[0m in \u001b[0;36m<module>\u001b[0;34m\u001b[0m\n\u001b[0;32m----> 1\u001b[0;31m \u001b[0mall_precision\u001b[0m \u001b[0;34m=\u001b[0m \u001b[0mpred_eval\u001b[0m\u001b[0;34m.\u001b[0m\u001b[0mcocoEval\u001b[0m\u001b[0;34m.\u001b[0m\u001b[0meval\u001b[0m\u001b[0;34m[\u001b[0m\u001b[0;34m'precision'\u001b[0m\u001b[0;34m]\u001b[0m\u001b[0;34m\u001b[0m\u001b[0;34m\u001b[0m\u001b[0m\n\u001b[0m\u001b[1;32m      2\u001b[0m \u001b[0;34m\u001b[0m\u001b[0m\n\u001b[1;32m      3\u001b[0m \u001b[0mpr_15\u001b[0m \u001b[0;34m=\u001b[0m \u001b[0mall_precision\u001b[0m\u001b[0;34m[\u001b[0m\u001b[0;36m2\u001b[0m\u001b[0;34m,\u001b[0m \u001b[0;34m:\u001b[0m\u001b[0;34m,\u001b[0m \u001b[0;36m0\u001b[0m\u001b[0;34m,\u001b[0m \u001b[0;36m0\u001b[0m\u001b[0;34m,\u001b[0m \u001b[0;36m2\u001b[0m\u001b[0;34m]\u001b[0m \u001b[0;31m# data for IoU@0.5\u001b[0m\u001b[0;34m\u001b[0m\u001b[0;34m\u001b[0m\u001b[0m\n\u001b[1;32m      4\u001b[0m \u001b[0mpr_25\u001b[0m \u001b[0;34m=\u001b[0m \u001b[0mall_precision\u001b[0m\u001b[0;34m[\u001b[0m\u001b[0;36m2\u001b[0m\u001b[0;34m,\u001b[0m \u001b[0;34m:\u001b[0m\u001b[0;34m,\u001b[0m \u001b[0;36m0\u001b[0m\u001b[0;34m,\u001b[0m \u001b[0;36m0\u001b[0m\u001b[0;34m,\u001b[0m \u001b[0;36m2\u001b[0m\u001b[0;34m]\u001b[0m \u001b[0;31m# data for IoU@0.5\u001b[0m\u001b[0;34m\u001b[0m\u001b[0;34m\u001b[0m\u001b[0m\n\u001b[1;32m      5\u001b[0m \u001b[0mpr_40\u001b[0m \u001b[0;34m=\u001b[0m \u001b[0mall_precision\u001b[0m\u001b[0;34m[\u001b[0m\u001b[0;36m7\u001b[0m\u001b[0;34m,\u001b[0m \u001b[0;34m:\u001b[0m\u001b[0;34m,\u001b[0m \u001b[0;36m0\u001b[0m\u001b[0;34m,\u001b[0m \u001b[0;36m0\u001b[0m\u001b[0;34m,\u001b[0m \u001b[0;36m2\u001b[0m\u001b[0;34m]\u001b[0m \u001b[0;31m# data for IoU@0.7\u001b[0m\u001b[0;34m\u001b[0m\u001b[0;34m\u001b[0m\u001b[0m\n",
      "\u001b[0;31mNameError\u001b[0m: name 'pred_eval' is not defined"
     ]
    }
   ],
   "source": [
    "all_precision = pred_eval.cocoEval.eval['precision']\n",
    "\n",
    "pr_15 = all_precision[2, :, 0, 0, 2] # data for IoU@0.5\n",
    "pr_25 = all_precision[2, :, 0, 0, 2] # data for IoU@0.5\n",
    "pr_40 = all_precision[7, :, 0, 0, 2] # data for IoU@0.7\n",
    "pr_50 = all_precision[9, :, 0, 0, 2] # data for IoU@0.9\n",
    "pr_60 = all_precision[11, :, 0, 0, 2] # data for IoU@0.9\n",
    "pr_70 = all_precision[13, :, 0, 0, 2] # data for IoU@0.9\n",
    "\n",
    "x = np.arange(0, 1.01, 0.01)\n",
    "fig, ax = plt.subplots(1,1, figsize=set_size(407))\n",
    "ax.plot(x, pr_25, label='IoU@0.25')\n",
    "ax.plot(x, pr_40, label='IoU@0.4')\n",
    "ax.plot(x, pr_50, label='IoU@0.5')\n",
    "ax.plot(x, pr_60, label='IoU@0.6')\n",
    "ax.plot(x, pr_70, label='IoU@0.7')\n",
    "ax.legend()\n",
    "\n",
    "ax.set_xlabel('recall')\n",
    "ax.set_ylabel('precision')\n",
    "fig.savefig('iou_val_multiple.pdf', format='pdf', bbox_inches='tight')\n",
    "\n",
    "plt.show()"
   ]
  },
  {
   "cell_type": "code",
   "execution_count": 33,
   "metadata": {},
   "outputs": [
    {
     "name": "stdout",
     "output_type": "stream",
     "text": [
      "Running per image evaluation...\n",
      "DONE (t=1.25s).\n",
      "Accumulating evaluation results...\n",
      "DONE (t=0.28s).\n",
      " Average Precision  (AP) @[ IoU=0.05      | area=   all | maxDets=100 ] = 0.764\n",
      "0.7644460514733482\n",
      " Average Precision  (AP) @[ IoU=0.05      | area=   all | maxDets=100 ] = 0.764\n",
      " Average Precision  (AP) @[ IoU=0.10      | area=   all | maxDets=100 ] = 0.760\n",
      "0.760347660902615\n",
      " Average Precision  (AP) @[ IoU=0.10      | area=   all | maxDets=100 ] = 0.760\n",
      " Average Precision  (AP) @[ IoU=0.15      | area=   all | maxDets=100 ] = 0.756\n",
      "0.7560131436688008\n",
      " Average Precision  (AP) @[ IoU=0.15      | area=   all | maxDets=100 ] = 0.756\n",
      " Average Precision  (AP) @[ IoU=0.20      | area=   all | maxDets=100 ] = 0.750\n",
      "0.7504067280612118\n",
      " Average Precision  (AP) @[ IoU=0.20      | area=   all | maxDets=100 ] = 0.750\n",
      " Average Precision  (AP) @[ IoU=0.25      | area=   all | maxDets=100 ] = 0.742\n",
      "0.7419627328653737\n",
      " Average Precision  (AP) @[ IoU=0.25      | area=   all | maxDets=100 ] = 0.742\n",
      " Average Precision  (AP) @[ IoU=0.30      | area=   all | maxDets=100 ] = 0.734\n",
      "0.7341479785896036\n",
      " Average Precision  (AP) @[ IoU=0.30      | area=   all | maxDets=100 ] = 0.734\n",
      " Average Precision  (AP) @[ IoU=0.35      | area=   all | maxDets=100 ] = 0.716\n",
      "0.7161040531019158\n",
      " Average Precision  (AP) @[ IoU=0.35      | area=   all | maxDets=100 ] = 0.716\n",
      " Average Precision  (AP) @[ IoU=0.40      | area=   all | maxDets=100 ] = 0.699\n",
      "0.6985760426593458\n",
      " Average Precision  (AP) @[ IoU=0.40      | area=   all | maxDets=100 ] = 0.699\n",
      " Average Precision  (AP) @[ IoU=0.45      | area=   all | maxDets=100 ] = 0.680\n",
      "0.6798566531482726\n",
      " Average Precision  (AP) @[ IoU=0.45      | area=   all | maxDets=100 ] = 0.680\n",
      " Average Precision  (AP) @[ IoU=0.50      | area=   all | maxDets=100 ] = 0.631\n",
      "0.6305479675531557\n",
      " Average Precision  (AP) @[ IoU=0.50      | area=   all | maxDets=100 ] = 0.631\n",
      " Average Precision  (AP) @[ IoU=0.55      | area=   all | maxDets=100 ] = 0.572\n",
      "0.5721822762971163\n",
      " Average Precision  (AP) @[ IoU=0.55      | area=   all | maxDets=100 ] = 0.572\n",
      " Average Precision  (AP) @[ IoU=0.60      | area=   all | maxDets=100 ] = 0.490\n",
      "0.4903386089018384\n",
      " Average Precision  (AP) @[ IoU=0.60      | area=   all | maxDets=100 ] = 0.490\n",
      " Average Precision  (AP) @[ IoU=0.65      | area=   all | maxDets=100 ] = 0.368\n",
      "0.368357422425799\n",
      " Average Precision  (AP) @[ IoU=0.65      | area=   all | maxDets=100 ] = 0.368\n",
      " Average Precision  (AP) @[ IoU=0.70      | area=   all | maxDets=100 ] = 0.239\n",
      "0.2393606036087212\n",
      " Average Precision  (AP) @[ IoU=0.70      | area=   all | maxDets=100 ] = 0.239\n",
      " Average Precision  (AP) @[ IoU=0.75      | area=   all | maxDets=100 ] = 0.132\n",
      "0.13158881655352903\n",
      " Average Precision  (AP) @[ IoU=0.75      | area=   all | maxDets=100 ] = 0.132\n",
      " Average Precision  (AP) @[ IoU=0.80      | area=   all | maxDets=100 ] = 0.043\n",
      "0.04334618181108554\n",
      " Average Precision  (AP) @[ IoU=0.80      | area=   all | maxDets=100 ] = 0.043\n",
      " Average Precision  (AP) @[ IoU=0.85      | area=   all | maxDets=100 ] = 0.018\n",
      "0.017907077075914837\n",
      " Average Precision  (AP) @[ IoU=0.85      | area=   all | maxDets=100 ] = 0.018\n",
      " Average Precision  (AP) @[ IoU=0.90      | area=   all | maxDets=100 ] = 0.001\n",
      "0.001003650407812381\n",
      " Average Precision  (AP) @[ IoU=0.90      | area=   all | maxDets=100 ] = 0.001\n",
      " Average Precision  (AP) @[ IoU=0.95      | area=   all | maxDets=100 ] = 0.000\n",
      "0.0\n",
      " Average Precision  (AP) @[ IoU=0.95      | area=   all | maxDets=100 ] = 0.000\n",
      "Running per image evaluation...\n",
      "DONE (t=5.19s).\n",
      "Accumulating evaluation results...\n",
      "DONE (t=1.01s).\n",
      " Average Precision  (AP) @[ IoU=0.05      | area=   all | maxDets=100 ] = 0.877\n",
      "0.8774650294843187\n",
      " Average Precision  (AP) @[ IoU=0.05      | area=   all | maxDets=100 ] = 0.877\n",
      " Average Precision  (AP) @[ IoU=0.10      | area=   all | maxDets=100 ] = 0.877\n",
      "0.8771181881082264\n",
      " Average Precision  (AP) @[ IoU=0.10      | area=   all | maxDets=100 ] = 0.877\n",
      " Average Precision  (AP) @[ IoU=0.15      | area=   all | maxDets=100 ] = 0.875\n",
      "0.8750699070182947\n",
      " Average Precision  (AP) @[ IoU=0.15      | area=   all | maxDets=100 ] = 0.875\n",
      " Average Precision  (AP) @[ IoU=0.20      | area=   all | maxDets=100 ] = 0.873\n",
      "0.8726399381433562\n",
      " Average Precision  (AP) @[ IoU=0.20      | area=   all | maxDets=100 ] = 0.873\n",
      " Average Precision  (AP) @[ IoU=0.25      | area=   all | maxDets=100 ] = 0.871\n",
      "0.8708265782010383\n",
      " Average Precision  (AP) @[ IoU=0.25      | area=   all | maxDets=100 ] = 0.871\n",
      " Average Precision  (AP) @[ IoU=0.30      | area=   all | maxDets=100 ] = 0.869\n",
      "0.8690935723769049\n",
      " Average Precision  (AP) @[ IoU=0.30      | area=   all | maxDets=100 ] = 0.869\n",
      " Average Precision  (AP) @[ IoU=0.35      | area=   all | maxDets=100 ] = 0.867\n",
      "0.8671045367787116\n",
      " Average Precision  (AP) @[ IoU=0.35      | area=   all | maxDets=100 ] = 0.867\n",
      " Average Precision  (AP) @[ IoU=0.40      | area=   all | maxDets=100 ] = 0.864\n",
      "0.8638557888290161\n",
      " Average Precision  (AP) @[ IoU=0.40      | area=   all | maxDets=100 ] = 0.864\n",
      " Average Precision  (AP) @[ IoU=0.45      | area=   all | maxDets=100 ] = 0.855\n",
      "0.8545296831151131\n",
      " Average Precision  (AP) @[ IoU=0.45      | area=   all | maxDets=100 ] = 0.855\n",
      " Average Precision  (AP) @[ IoU=0.50      | area=   all | maxDets=100 ] = 0.841\n",
      "0.8408271923689999\n",
      " Average Precision  (AP) @[ IoU=0.50      | area=   all | maxDets=100 ] = 0.841\n",
      " Average Precision  (AP) @[ IoU=0.55      | area=   all | maxDets=100 ] = 0.814\n",
      "0.8138432102662116\n",
      " Average Precision  (AP) @[ IoU=0.55      | area=   all | maxDets=100 ] = 0.814\n",
      " Average Precision  (AP) @[ IoU=0.60      | area=   all | maxDets=100 ] = 0.762\n",
      "0.7622654590932296\n",
      " Average Precision  (AP) @[ IoU=0.60      | area=   all | maxDets=100 ] = 0.762\n",
      " Average Precision  (AP) @[ IoU=0.65      | area=   all | maxDets=100 ] = 0.687\n",
      "0.6874009137868765\n",
      " Average Precision  (AP) @[ IoU=0.65      | area=   all | maxDets=100 ] = 0.687\n",
      " Average Precision  (AP) @[ IoU=0.70      | area=   all | maxDets=100 ] = 0.569\n",
      "0.5693659417383939\n",
      " Average Precision  (AP) @[ IoU=0.70      | area=   all | maxDets=100 ] = 0.569\n",
      " Average Precision  (AP) @[ IoU=0.75      | area=   all | maxDets=100 ] = 0.442\n",
      "0.44221485156194124\n",
      " Average Precision  (AP) @[ IoU=0.75      | area=   all | maxDets=100 ] = 0.442\n",
      " Average Precision  (AP) @[ IoU=0.80      | area=   all | maxDets=100 ] = 0.299\n",
      "0.2993399759023061\n",
      " Average Precision  (AP) @[ IoU=0.80      | area=   all | maxDets=100 ] = 0.299\n",
      " Average Precision  (AP) @[ IoU=0.85      | area=   all | maxDets=100 ] = 0.157\n",
      "0.15657899966743535\n",
      " Average Precision  (AP) @[ IoU=0.85      | area=   all | maxDets=100 ] = 0.157\n",
      " Average Precision  (AP) @[ IoU=0.90      | area=   all | maxDets=100 ] = 0.047\n",
      "0.0466224652100533\n",
      " Average Precision  (AP) @[ IoU=0.90      | area=   all | maxDets=100 ] = 0.047\n",
      " Average Precision  (AP) @[ IoU=0.95      | area=   all | maxDets=100 ] = 0.011\n",
      "0.010682269833664252\n",
      " Average Precision  (AP) @[ IoU=0.95      | area=   all | maxDets=100 ] = 0.011\n"
     ]
    }
   ],
   "source": [
    "queries = [{\"ap\" : 1, \"iouThr\": round(i*0.05,4), \"areaRng\":'all', 'maxDets': 100} for i in range(1,20)]\n",
    "maps_val = pred_eval.evaluate_map(queries, stage='val')\n",
    "maps_train = pred_eval.evaluate_map(queries, stage='train')\n",
    "iouThr = [0.05 * i for i in range(1,20)]\n"
   ]
  },
  {
   "cell_type": "code",
   "execution_count": 34,
   "metadata": {},
   "outputs": [
    {
     "data": {
      "image/png": "[encoded data removed]",
      "text/plain": [
       "<Figure size 405.479x250.6 with 1 Axes>"
      ]
     },
     "metadata": {},
     "output_type": "display_data"
    }
   ],
   "source": [
    "fig, ax = plt.subplots(1,1, figsize=set_size(407))\n",
    "ax.plot(iouThr, maps_val, label='val')\n",
    "ax.plot(iouThr, maps_train, label='train')\n",
    "ax.legend()\n",
    "ax.set_xlabel('AP')\n",
    "ax.set_ylabel('IOU threshold')\n",
    "fig.savefig('iou_threshold.pdf', format='pdf', bbox_inches='tight')\n",
    "\n",
    "plt.show()"
   ]
  },
  {
   "cell_type": "code",
   "execution_count": 25,
   "metadata": {},
   "outputs": [],
   "source": [
    "with open('predictions2.json', 'w') as fp:\n",
    "    json.dump(data['annotations'], fp)"
   ]
  },
  {
   "cell_type": "code",
   "execution_count": 19,
   "metadata": {},
   "outputs": [
    {
     "name": "stdout",
     "output_type": "stream",
     "text": [
      "loading annotations into memory...\n",
      "Done (t=0.02s)\n",
      "creating index...\n",
      "index created!\n"
     ]
    }
   ],
   "source": [
    "annType = ['bbox']\n",
    "prefix = 'instances'\n",
    "dataDir = '/home/kuntik/dev/datasets/dental_merged'\n",
    "annFile = '/home/kuntik/dev/datasets/dental_rtg_merged2/annotations.json'\n",
    "cocoGt = COCO(annFile)"
   ]
  }
 ],
 "metadata": {
  "interpreter": {
   "hash": "1edff4d5b9c98e83eaa59f187d0bc5508f41acd6e19801c19c4db8117202e3ae"
  },
  "kernelspec": {
   "display_name": "Python 3.8.12 ('fiftyone')",
   "language": "python",
   "name": "python3"
  },
  "language_info": {
   "codemirror_mode": {
    "name": "ipython",
    "version": 3
   },
   "file_extension": ".py",
   "mimetype": "text/x-python",
   "name": "python",
   "nbconvert_exporter": "python",
   "pygments_lexer": "ipython3",
   "version": "3.8.12"
  },
  "orig_nbformat": 4
 },
 "nbformat": 4,
 "nbformat_minor": 2
}
