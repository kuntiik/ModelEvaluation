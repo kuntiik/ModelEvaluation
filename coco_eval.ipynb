{
 "cells": [
  {
   "cell_type": "code",
   "execution_count": null,
   "metadata": {},
   "outputs": [],
   "source": [
    "%load_ext autoreload\n",
    "%autoreload 2\n",
    "\n",
    "import json\n",
    "from pycocotools.coco import COCO\n",
    "from pycocotools.cocoeval import COCOeval, Params"
   ]
  },
  {
   "cell_type": "code",
   "execution_count": null,
   "metadata": {},
   "outputs": [],
   "source": [
    "with open('/home/kuntik/dev/datasets/dental_rtg_merged2/annotations.json', 'r') as f:\n",
    "    ann_file = json.load(f)\n",
    "with open('rtg2_preds_effdet.json', 'r') as f:\n",
    "    pred_file = json.load(f)"
   ]
  },
  {
   "cell_type": "code",
   "execution_count": null,
   "metadata": {},
   "outputs": [],
   "source": [
    "all_preds = []\n",
    "pred_id = 0\n",
    "train = []\n",
    "val = []\n",
    "for image in ann_file['images']:\n",
    "    id = image['id']\n",
    "    pred = pred_file[image['file_name']]\n",
    "    # for pred in pred_file[image['file_name']]:\n",
    "    for (bbox, score, label) in zip(pred['bboxes'], pred['scores'], pred['labels']):\n",
    "        x1, y1, x2, y2 = bbox\n",
    "        width = x2 - x1\n",
    "        height = y2 - y1\n",
    "        final_box = [x1,y1, width, height]\n",
    "        area = width * height\n",
    "        pred_dict = {'area' : area, 'id' : pred_id, 'bbox' : final_box, 'image_id' : id, 'category_id' : 1, 'score' : score}\n",
    "        all_preds.append(pred_dict)\n",
    "        pred_id += 1\n",
    "    if pred['stage'] == 'valid':\n",
    "        val.append(id)\n",
    "    else:\n",
    "        train.append(id)\n",
    "\n",
    "data = {'categories' : [{'supercategory' : \"\", 'name' : 'decay', 'id' : 1}]}\n",
    "data['images'] = ann_file['images']\n",
    "data['annotations'] = all_preds\n",
    "train_val = {'type' : 'id', 'train' : train, 'val' : val}\n",
    "\n",
    "\n",
    "with open('rtg2_effdet.json', 'w') as fp:\n",
    "    json.dump(data['annotations'], fp)"
   ]
  },
  {
   "cell_type": "code",
   "execution_count": null,
   "metadata": {
    "collapsed": false,
    "pycharm": {
     "name": "#%%\n"
    }
   },
   "outputs": [],
   "source": [
    "from prediction_evaluation import PredictionEval\n",
    "dataDir = '/home/kuntik/dev/datasets/dental_merged'\n",
    "annFile = '/home/kuntik/dev/datasets/dental_rtg_merged2/annotations.json'\n",
    "resFile = 'rtg2_effdet.json'\n",
    "with open('train_val_names.json', 'r') as f:\n",
    "    train_val_names = json.load(f)\n",
    "pred_eval = PredictionEval()\n",
    "pred_eval.load_data_coco_files(annFile, resFile, train_val_names)\n",
    "queries = pred_eval.default_queries()\n",
    "# pred_eval.cocoEval.evaluate()\n",
    "# pred_eval.evaluate_map(queries, stage='val', summary=True)\n",
    "text = pred_eval.get_latex_table()\n",
    "print(text)\n",
    "\n",
    "# pred_eval."
   ]
  },
  {
   "cell_type": "code",
   "execution_count": null,
   "metadata": {},
   "outputs": [],
   "source": [
    "import matplotlib.pyplot as plt\n",
    "import numpy as np\n",
    "\n",
    "def set_size(width_pt, fraction=1, subplots=(1,1)):\n",
    "    fig_width_pt = width_pt * fraction\n",
    "    inches_per_pt = 1 / 72.27\n",
    "    golden_ratio = (5**.5 - 1) / 2\n",
    "    fig_width_in = fig_width_pt * inches_per_pt\n",
    "    fig_height_in = fig_width_in * golden_ratio * (subplots[0] / subplots[1])\n",
    "    return (fig_width_in, fig_height_in)\n",
    "\n",
    "plt.style.use('seaborn')\n",
    "tex_fonts = {\n",
    "    # Use LaTeX to write all text\n",
    "    \"text.usetex\": True,\n",
    "    \"font.family\": \"arial\",\n",
    "    # Use 10pt font in plots, to match 10pt font in document\n",
    "    \"axes.labelsize\": 11,\n",
    "    \"font.size\": 11,\n",
    "    # Make the legend/label fonts a little smaller\n",
    "    \"legend.fontsize\": 9,\n",
    "    \"xtick.labelsize\": 9,\n",
    "    \"ytick.labelsize\": 9\n",
    "}\n",
    "plt.rcParams.update(tex_fonts)"
   ]
  },
  {
   "cell_type": "code",
   "execution_count": null,
   "metadata": {},
   "outputs": [],
   "source": [
    "all_precision = pred_eval.cocoEval.eval['precision']\n",
    "\n",
    "pr_15 = all_precision[2, :, 0, 0, 2] # data for IoU@0.5\n",
    "pr_25 = all_precision[2, :, 0, 0, 2] # data for IoU@0.5\n",
    "pr_40 = all_precision[7, :, 0, 0, 2] # data for IoU@0.7\n",
    "pr_50 = all_precision[9, :, 0, 0, 2] # data for IoU@0.9\n",
    "pr_60 = all_precision[11, :, 0, 0, 2] # data for IoU@0.9\n",
    "pr_70 = all_precision[13, :, 0, 0, 2] # data for IoU@0.9\n",
    "\n",
    "x = np.arange(0, 1.01, 0.01)\n",
    "fig, ax = plt.subplots(1,1, figsize=set_size(407))\n",
    "ax.plot(x, pr_25, label='IoU@0.25')\n",
    "ax.plot(x, pr_40, label='IoU@0.4')\n",
    "ax.plot(x, pr_50, label='IoU@0.5')\n",
    "ax.plot(x, pr_60, label='IoU@0.6')\n",
    "ax.plot(x, pr_70, label='IoU@0.7')\n",
    "ax.legend()\n",
    "\n",
    "ax.set_xlabel('recall')\n",
    "ax.set_ylabel('precision')\n",
    "fig.savefig('iou_val_multiple.pdf', format='pdf', bbox_inches='tight')\n",
    "\n",
    "plt.show()"
   ]
  },
  {
   "cell_type": "code",
   "execution_count": null,
   "metadata": {},
   "outputs": [],
   "source": [
    "queries = [{\"ap\" : 1, \"iouThr\": round(i*0.05,4), \"areaRng\":'all', 'maxDets': 100} for i in range(1,20)]\n",
    "maps_val = pred_eval.evaluate_map(queries, stage='val')\n",
    "maps_train = pred_eval.evaluate_map(queries, stage='train')\n",
    "iouThr = [0.05 * i for i in range(1,20)]\n"
   ]
  },
  {
   "cell_type": "code",
   "execution_count": null,
   "metadata": {},
   "outputs": [],
   "source": [
    "fig, ax = plt.subplots(1,1, figsize=set_size(407))\n",
    "ax.plot(iouThr, maps_val, label='val')\n",
    "ax.plot(iouThr, maps_train, label='train')\n",
    "ax.legend()\n",
    "ax.set_xlabel('AP')\n",
    "ax.set_ylabel('IOU threshold')\n",
    "fig.savefig('iou_threshold.pdf', format='pdf', bbox_inches='tight')\n",
    "\n",
    "plt.show()"
   ]
  },
  {
   "cell_type": "code",
   "execution_count": null,
   "metadata": {},
   "outputs": [],
   "source": [
    "with open('predictions2.json', 'w') as fp:\n",
    "    json.dump(data['annotations'], fp)"
   ]
  }
 ],
 "metadata": {
  "interpreter": {
   "hash": "1edff4d5b9c98e83eaa59f187d0bc5508f41acd6e19801c19c4db8117202e3ae"
  },
  "kernelspec": {
   "display_name": "Python 3.8.12 ('fiftyone')",
   "language": "python",
   "name": "python3"
  },
  "language_info": {
   "codemirror_mode": {
    "name": "ipython",
    "version": 3
   },
   "file_extension": ".py",
   "mimetype": "text/x-python",
   "name": "python",
   "nbconvert_exporter": "python",
   "pygments_lexer": "ipython3",
   "version": "3.8.12"
  },
  "orig_nbformat": 4
 },
 "nbformat": 4,
 "nbformat_minor": 2
}
